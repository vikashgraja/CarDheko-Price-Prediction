{
 "cells": [
  {
   "cell_type": "code",
   "execution_count": 1,
   "id": "22901c6c-4db8-42fa-94bb-52bc412e7465",
   "metadata": {},
   "outputs": [],
   "source": [
    "# import libraries\n",
    "import pandas as pd\n",
    "import numpy as np\n",
    "import matplotlib.pyplot as plt\n",
    "import seaborn as sns"
   ]
  },
  {
   "cell_type": "code",
   "execution_count": 2,
   "id": "f3f04c32-3732-465d-80dc-59989d8c461d",
   "metadata": {},
   "outputs": [],
   "source": [
    "file = 'Dataset/process/extracted_data.xlsx'\n",
    "data = pd.read_excel(file)"
   ]
  },
  {
   "cell_type": "code",
   "execution_count": 3,
   "id": "2f7b36b8-2968-4aeb-a507-5adb9f5f038e",
   "metadata": {},
   "outputs": [],
   "source": [
    "df = data.copy()"
   ]
  },
  {
   "cell_type": "code",
   "execution_count": null,
   "id": "7c05e3c0-9f24-40d7-9fbf-7bb5257dca9b",
   "metadata": {},
   "outputs": [],
   "source": []
  },
  {
   "cell_type": "markdown",
   "id": "d74907fe-bc31-4324-9acc-855d83ee65df",
   "metadata": {},
   "source": [
    "## Handling missing values"
   ]
  },
  {
   "cell_type": "code",
   "execution_count": null,
   "id": "abf6bb8c-c9a6-4e81-91d0-ac3c4ea384a4",
   "metadata": {},
   "outputs": [],
   "source": []
  },
  {
   "cell_type": "code",
   "execution_count": 4,
   "id": "82acd225-88d9-4195-8447-1ebec96575f8",
   "metadata": {},
   "outputs": [],
   "source": [
    "df['Acceleration'] = df['Acceleration'].combine_first(df['Acceleration_1'])"
   ]
  },
  {
   "cell_type": "code",
   "execution_count": null,
   "id": "1ec76b45-62af-4f9c-8bc1-605612f1421b",
   "metadata": {},
   "outputs": [],
   "source": []
  },
  {
   "cell_type": "code",
   "execution_count": 5,
   "id": "c257ac2e-e875-441d-b74b-ad3137fb7a0b",
   "metadata": {},
   "outputs": [],
   "source": [
    "df['Alloy Wheel Size'] = df['Alloy Wheel Size'].combine_first(df['Alloy Wheel Size_1'])"
   ]
  },
  {
   "cell_type": "code",
   "execution_count": 6,
   "id": "ad565d5f-f9cc-40e4-8a2b-f391202dd1ee",
   "metadata": {},
   "outputs": [],
   "source": [
    "df['Alloy Wheel Size'] = df['Alloy Wheel Size'].combine_first(df['Alloy Wheel Size_2'])"
   ]
  },
  {
   "cell_type": "code",
   "execution_count": null,
   "id": "6c0ad55a-d13e-422a-a997-7493728b4846",
   "metadata": {},
   "outputs": [],
   "source": []
  },
  {
   "cell_type": "code",
   "execution_count": 7,
   "id": "1f857334-cd93-425d-954a-192da8e391a2",
   "metadata": {},
   "outputs": [],
   "source": [
    "df['Drive Type'] = df['Drive Type'].combine_first(df['Drive Type_1'])"
   ]
  },
  {
   "cell_type": "code",
   "execution_count": null,
   "id": "c6ac2ac7-63ff-4c59-97f9-c7c3e940b813",
   "metadata": {},
   "outputs": [],
   "source": []
  },
  {
   "cell_type": "code",
   "execution_count": 8,
   "id": "f190ed55-21b6-4aa5-a332-7bb6dcd42267",
   "metadata": {},
   "outputs": [],
   "source": [
    "df['Front Brake Type'] = df['Front Brake Type'].combine_first(df['Front Brake Type_1'])"
   ]
  },
  {
   "cell_type": "code",
   "execution_count": 9,
   "id": "cfdbb066-ec8c-4562-9a1e-abe93a47a3d3",
   "metadata": {},
   "outputs": [],
   "source": [
    "df['Gear Box'] = df['Gear Box'].combine_first(df['Gear Box_1'])"
   ]
  },
  {
   "cell_type": "code",
   "execution_count": 10,
   "id": "defd87e8-6586-47f8-bcf9-15e0b57aa9aa",
   "metadata": {},
   "outputs": [],
   "source": [
    "df['Max Power'] = df['Max Power'].combine_first(df['Max Power_1'])"
   ]
  },
  {
   "cell_type": "code",
   "execution_count": null,
   "id": "de9c22c5-de7e-4360-8c31-c0fbf1feeead",
   "metadata": {},
   "outputs": [],
   "source": []
  },
  {
   "cell_type": "code",
   "execution_count": 11,
   "id": "232589b1-9cfe-44e5-85ef-ad3bad8f0ec8",
   "metadata": {},
   "outputs": [],
   "source": [
    "df['No Door Numbers'] = df['No Door Numbers'].combine_first(df['No Door Numbers_1'])"
   ]
  },
  {
   "cell_type": "code",
   "execution_count": 12,
   "id": "b6978a5b-7bf6-4ffa-baea-4c2a76bf052b",
   "metadata": {},
   "outputs": [],
   "source": [
    "df['No Door Numbers'] = df['No Door Numbers'].combine_first(df['No Door Numbers_2'])"
   ]
  },
  {
   "cell_type": "code",
   "execution_count": null,
   "id": "a7132fe5-244e-43d4-8b99-ba5543978cab",
   "metadata": {},
   "outputs": [],
   "source": []
  },
  {
   "cell_type": "code",
   "execution_count": 13,
   "id": "64ecfb41-84b6-408f-8900-b3cc4f96e7f5",
   "metadata": {},
   "outputs": [],
   "source": [
    "df['Rear Brake Type'] = df['Rear Brake Type'].combine_first(df['Rear Brake Type_1'])"
   ]
  },
  {
   "cell_type": "code",
   "execution_count": null,
   "id": "0df83397-ae8a-4f33-a6d3-95bf704bde15",
   "metadata": {},
   "outputs": [],
   "source": []
  },
  {
   "cell_type": "code",
   "execution_count": 14,
   "id": "ba8ac959-f7aa-4852-b564-57fbe31fdf9d",
   "metadata": {},
   "outputs": [],
   "source": [
    "df['Seating Capacity'] = df['Seating Capacity'].combine_first(df['Seating Capacity_1'])"
   ]
  },
  {
   "cell_type": "code",
   "execution_count": 15,
   "id": "e7b0d2f3-8954-46e7-a19a-59eab3e649b1",
   "metadata": {},
   "outputs": [],
   "source": [
    "df['Seating Capacity'] = df['Seating Capacity'].combine_first(df['Seating Capacity_2'])"
   ]
  },
  {
   "cell_type": "code",
   "execution_count": 16,
   "id": "d68a9e51-3499-4afc-9f49-25db2531db59",
   "metadata": {},
   "outputs": [],
   "source": [
    "df['Seats'] = df['Seats'].combine_first(df['Seats_1'])"
   ]
  },
  {
   "cell_type": "code",
   "execution_count": null,
   "id": "3e9bf1bf-1172-44dc-a234-028edcf18180",
   "metadata": {},
   "outputs": [],
   "source": []
  },
  {
   "cell_type": "code",
   "execution_count": 17,
   "id": "3e26be3e-acfe-4eb8-aa9c-c87fe28062f6",
   "metadata": {},
   "outputs": [],
   "source": [
    "df['Steering Type'] = df['Steering Type'].combine_first(df['Steering Type_1'])"
   ]
  },
  {
   "cell_type": "code",
   "execution_count": 18,
   "id": "f3dffa96-63a3-4809-96da-3848c9381e9b",
   "metadata": {},
   "outputs": [],
   "source": [
    "df['Steering Type'] = df['Steering Type'].combine_first(df['Steering Type_2'])"
   ]
  },
  {
   "cell_type": "code",
   "execution_count": null,
   "id": "671923fb-d48d-4637-a9ce-b9bb88ac0680",
   "metadata": {},
   "outputs": [],
   "source": []
  },
  {
   "cell_type": "code",
   "execution_count": 19,
   "id": "03792162-a852-4882-a333-8134a7ca7234",
   "metadata": {},
   "outputs": [],
   "source": [
    "df['Top Speed'] = df['Top Speed'].combine_first(df['Top Speed_1'])"
   ]
  },
  {
   "cell_type": "code",
   "execution_count": null,
   "id": "9acc2214-3382-4aa6-a779-3c2c83d39909",
   "metadata": {},
   "outputs": [],
   "source": []
  },
  {
   "cell_type": "code",
   "execution_count": 20,
   "id": "9e8cc66d-9098-406c-8ced-79b4dd90ea2a",
   "metadata": {},
   "outputs": [],
   "source": [
    "df['Turning Radius'] = df['Turning Radius'].combine_first(df['Turning Radius_1'])"
   ]
  },
  {
   "cell_type": "code",
   "execution_count": null,
   "id": "a3be0b0b-7780-491d-9597-f34629122ecc",
   "metadata": {},
   "outputs": [],
   "source": []
  },
  {
   "cell_type": "code",
   "execution_count": 21,
   "id": "2684bf38-62a2-4cd5-a99a-1a05754a530f",
   "metadata": {},
   "outputs": [],
   "source": [
    "df['Tyre Type'] = df['Tyre Type'].combine_first(df['Tyre Type_1'])"
   ]
  },
  {
   "cell_type": "code",
   "execution_count": 22,
   "id": "0e54887f-dcdc-4e87-813b-9053f095fd5b",
   "metadata": {},
   "outputs": [],
   "source": [
    "df['Tyre Type'] = df['Tyre Type'].combine_first(df['Tyre Type_2'])"
   ]
  },
  {
   "cell_type": "code",
   "execution_count": 23,
   "id": "2728f671-a93d-444a-91d0-19171c66d10f",
   "metadata": {},
   "outputs": [],
   "source": [
    "df = df.drop(columns=['trendingText.desc','trendingText.heading','trendingText.imgUrl','it'])"
   ]
  },
  {
   "cell_type": "code",
   "execution_count": 24,
   "id": "e019daae-a542-47ce-83a6-4b4108803ffa",
   "metadata": {},
   "outputs": [],
   "source": [
    "dup_cols = [\n",
    "            'Acceleration_1','Alloy Wheel Size_1','Alloy Wheel Size_2','Drive Type_1','Front Brake Type_1',\n",
    "            'Gear Box_1','Max Power_1','No Door Numbers_1','No Door Numbers_2','Rear Brake Type_1',\n",
    "            'Seating Capacity_1','Seating Capacity_2','Seats_1','Steering Type_1','Steering Type_2',\n",
    "            'Top Speed_1','Turning Radius_1','Tyre Type_1','Tyre Type_2','Seating Capacity'\n",
    "           ]"
   ]
  },
  {
   "cell_type": "code",
   "execution_count": 25,
   "id": "6350d9b4-9c2a-42a4-bb49-71fe67789d93",
   "metadata": {},
   "outputs": [],
   "source": [
    "df = df.drop(columns=dup_cols)"
   ]
  },
  {
   "cell_type": "code",
   "execution_count": null,
   "id": "1020437b-0d7f-47b3-a922-04ec9ddc9a8b",
   "metadata": {},
   "outputs": [],
   "source": []
  },
  {
   "cell_type": "code",
   "execution_count": 26,
   "id": "eae104e4-2feb-4819-9044-81f37020eb24",
   "metadata": {},
   "outputs": [],
   "source": [
    "def desc_na(data):\n",
    "    total=data.isnull().sum().sort_values(ascending=False)\n",
    "    percent=(data.isnull().sum()/data.isnull().count()*100).sort_values(ascending=False)\n",
    "    return pd.concat([total, percent], axis=1, keys=['Total', 'Percent'])"
   ]
  },
  {
   "cell_type": "code",
   "execution_count": 27,
   "id": "79bb7ede-f92b-4e75-91d8-b04e2dbfdda3",
   "metadata": {},
   "outputs": [],
   "source": [
    "null_count = desc_na(df)"
   ]
  },
  {
   "cell_type": "code",
   "execution_count": 28,
   "id": "6327694a-ae57-46cf-88c1-7a85a56998ff",
   "metadata": {},
   "outputs": [],
   "source": [
    "df = df[(null_count[null_count.Percent<10]).index]"
   ]
  },
  {
   "cell_type": "code",
   "execution_count": null,
   "id": "3b9994c0-0f47-4f93-94b0-27e63165e2e4",
   "metadata": {},
   "outputs": [],
   "source": []
  },
  {
   "cell_type": "code",
   "execution_count": 29,
   "id": "2888bf62-a63f-4d81-8e01-7fd7968b2cb5",
   "metadata": {},
   "outputs": [],
   "source": [
    "df = df.drop(columns=[ 'Ownership','owner','Engine Type','Engine Displacement','Displacement','Kms Driven',])"
   ]
  },
  {
   "cell_type": "code",
   "execution_count": null,
   "id": "76b9d0ca-095f-4fe5-8103-6a5da97219e6",
   "metadata": {},
   "outputs": [],
   "source": []
  },
  {
   "cell_type": "code",
   "execution_count": 30,
   "id": "644465db-aa44-4960-991c-b69588dafc53",
   "metadata": {},
   "outputs": [],
   "source": [
    "df.loc[df['Fuel Type']=='Electric','Displacement'] = '0 cc'\n",
    "df.loc[(df.model == 'Mercedes-Benz C-Class')&(df.modelYear == 2002),'Displacement'] = '1998 cc'\n",
    "df.loc[(df.model == 'Maruti Gypsy')&(df.modelYear == 1995),'Displacement'] = '1298 cc'"
   ]
  },
  {
   "cell_type": "code",
   "execution_count": null,
   "id": "c6657c06-e593-4ea8-8061-d231479478cb",
   "metadata": {},
   "outputs": [],
   "source": []
  },
  {
   "cell_type": "code",
   "execution_count": 31,
   "id": "03ac265e-0b02-4533-9857-9082042b34a7",
   "metadata": {},
   "outputs": [],
   "source": [
    "df.loc[df['model']=='Toyota Vellfire','bt'] = 'Minivans'\n",
    "df.loc[df['model']=='Maruti Eeco','bt'] = 'Minivans'"
   ]
  },
  {
   "cell_type": "code",
   "execution_count": null,
   "id": "15b8bc98-3436-4f86-9de4-d32a66e53850",
   "metadata": {},
   "outputs": [],
   "source": []
  },
  {
   "cell_type": "code",
   "execution_count": 32,
   "id": "3e770f9e-6e51-4bc1-9843-b65a1481b3f5",
   "metadata": {},
   "outputs": [],
   "source": [
    "df['Seats'] = df.groupby(['model'])['Seats'].transform(lambda x: x.fillna(x.mode()[0] if not x.mode().empty else np.nan))"
   ]
  },
  {
   "cell_type": "code",
   "execution_count": 33,
   "id": "1c6a4cab-13cf-4ea1-91ca-dcb43df011ce",
   "metadata": {},
   "outputs": [],
   "source": [
    "df.loc[df.model == 'Maruti Estilo','Seats'] = 5.0"
   ]
  },
  {
   "cell_type": "code",
   "execution_count": null,
   "id": "50871a93-41fc-46eb-a899-b49ce9bcc05b",
   "metadata": {},
   "outputs": [],
   "source": []
  },
  {
   "cell_type": "code",
   "execution_count": 34,
   "id": "c1764225-09c0-4d0e-9493-3c34f9f6702b",
   "metadata": {},
   "outputs": [
    {
     "data": {
      "text/html": [
       "<div>\n",
       "<style scoped>\n",
       "    .dataframe tbody tr th:only-of-type {\n",
       "        vertical-align: middle;\n",
       "    }\n",
       "\n",
       "    .dataframe tbody tr th {\n",
       "        vertical-align: top;\n",
       "    }\n",
       "\n",
       "    .dataframe thead th {\n",
       "        text-align: right;\n",
       "    }\n",
       "</style>\n",
       "<table border=\"1\" class=\"dataframe\">\n",
       "  <thead>\n",
       "    <tr style=\"text-align: right;\">\n",
       "      <th></th>\n",
       "      <th>Total</th>\n",
       "      <th>Percent</th>\n",
       "    </tr>\n",
       "  </thead>\n",
       "  <tbody>\n",
       "    <tr>\n",
       "      <th>Displacement</th>\n",
       "      <td>8338</td>\n",
       "      <td>99.629585</td>\n",
       "    </tr>\n",
       "    <tr>\n",
       "      <th>Mileage</th>\n",
       "      <td>287</td>\n",
       "      <td>3.429322</td>\n",
       "    </tr>\n",
       "    <tr>\n",
       "      <th>Steering Type</th>\n",
       "      <td>255</td>\n",
       "      <td>3.046959</td>\n",
       "    </tr>\n",
       "    <tr>\n",
       "      <th>Wheel Base</th>\n",
       "      <td>163</td>\n",
       "      <td>1.947664</td>\n",
       "    </tr>\n",
       "    <tr>\n",
       "      <th>Gear Box</th>\n",
       "      <td>106</td>\n",
       "      <td>1.266579</td>\n",
       "    </tr>\n",
       "    <tr>\n",
       "      <th>Front Brake Type</th>\n",
       "      <td>96</td>\n",
       "      <td>1.147090</td>\n",
       "    </tr>\n",
       "    <tr>\n",
       "      <th>Rear Brake Type</th>\n",
       "      <td>96</td>\n",
       "      <td>1.147090</td>\n",
       "    </tr>\n",
       "    <tr>\n",
       "      <th>Width</th>\n",
       "      <td>83</td>\n",
       "      <td>0.991755</td>\n",
       "    </tr>\n",
       "    <tr>\n",
       "      <th>Length</th>\n",
       "      <td>79</td>\n",
       "      <td>0.943960</td>\n",
       "    </tr>\n",
       "    <tr>\n",
       "      <th>Height</th>\n",
       "      <td>79</td>\n",
       "      <td>0.943960</td>\n",
       "    </tr>\n",
       "    <tr>\n",
       "      <th>Tyre Type</th>\n",
       "      <td>77</td>\n",
       "      <td>0.920062</td>\n",
       "    </tr>\n",
       "    <tr>\n",
       "      <th>Max Torque</th>\n",
       "      <td>60</td>\n",
       "      <td>0.716932</td>\n",
       "    </tr>\n",
       "    <tr>\n",
       "      <th>Max Power</th>\n",
       "      <td>60</td>\n",
       "      <td>0.716932</td>\n",
       "    </tr>\n",
       "    <tr>\n",
       "      <th>Torque</th>\n",
       "      <td>60</td>\n",
       "      <td>0.716932</td>\n",
       "    </tr>\n",
       "    <tr>\n",
       "      <th>Kerb Weight</th>\n",
       "      <td>59</td>\n",
       "      <td>0.704983</td>\n",
       "    </tr>\n",
       "    <tr>\n",
       "      <th>Registration Year</th>\n",
       "      <td>52</td>\n",
       "      <td>0.621341</td>\n",
       "    </tr>\n",
       "    <tr>\n",
       "      <th>Values per Cylinder</th>\n",
       "      <td>51</td>\n",
       "      <td>0.609392</td>\n",
       "    </tr>\n",
       "    <tr>\n",
       "      <th>No of Cylinder</th>\n",
       "      <td>31</td>\n",
       "      <td>0.370415</td>\n",
       "    </tr>\n",
       "    <tr>\n",
       "      <th>Year of Manufacture</th>\n",
       "      <td>20</td>\n",
       "      <td>0.238977</td>\n",
       "    </tr>\n",
       "    <tr>\n",
       "      <th>No Door Numbers</th>\n",
       "      <td>11</td>\n",
       "      <td>0.131437</td>\n",
       "    </tr>\n",
       "    <tr>\n",
       "      <th>Engine</th>\n",
       "      <td>4</td>\n",
       "      <td>0.047795</td>\n",
       "    </tr>\n",
       "    <tr>\n",
       "      <th>Insurance Validity</th>\n",
       "      <td>4</td>\n",
       "      <td>0.047795</td>\n",
       "    </tr>\n",
       "    <tr>\n",
       "      <th>Color</th>\n",
       "      <td>3</td>\n",
       "      <td>0.035847</td>\n",
       "    </tr>\n",
       "    <tr>\n",
       "      <th>bt</th>\n",
       "      <td>0</td>\n",
       "      <td>0.000000</td>\n",
       "    </tr>\n",
       "    <tr>\n",
       "      <th>ft</th>\n",
       "      <td>0</td>\n",
       "      <td>0.000000</td>\n",
       "    </tr>\n",
       "    <tr>\n",
       "      <th>Transmission</th>\n",
       "      <td>0</td>\n",
       "      <td>0.000000</td>\n",
       "    </tr>\n",
       "    <tr>\n",
       "      <th>Fuel Type</th>\n",
       "      <td>0</td>\n",
       "      <td>0.000000</td>\n",
       "    </tr>\n",
       "    <tr>\n",
       "      <th>price</th>\n",
       "      <td>0</td>\n",
       "      <td>0.000000</td>\n",
       "    </tr>\n",
       "    <tr>\n",
       "      <th>variantName</th>\n",
       "      <td>0</td>\n",
       "      <td>0.000000</td>\n",
       "    </tr>\n",
       "    <tr>\n",
       "      <th>centralVariantId</th>\n",
       "      <td>0</td>\n",
       "      <td>0.000000</td>\n",
       "    </tr>\n",
       "    <tr>\n",
       "      <th>modelYear</th>\n",
       "      <td>0</td>\n",
       "      <td>0.000000</td>\n",
       "    </tr>\n",
       "    <tr>\n",
       "      <th>model</th>\n",
       "      <td>0</td>\n",
       "      <td>0.000000</td>\n",
       "    </tr>\n",
       "    <tr>\n",
       "      <th>oem</th>\n",
       "      <td>0</td>\n",
       "      <td>0.000000</td>\n",
       "    </tr>\n",
       "    <tr>\n",
       "      <th>ownerNo</th>\n",
       "      <td>0</td>\n",
       "      <td>0.000000</td>\n",
       "    </tr>\n",
       "    <tr>\n",
       "      <th>transmission</th>\n",
       "      <td>0</td>\n",
       "      <td>0.000000</td>\n",
       "    </tr>\n",
       "    <tr>\n",
       "      <th>km</th>\n",
       "      <td>0</td>\n",
       "      <td>0.000000</td>\n",
       "    </tr>\n",
       "    <tr>\n",
       "      <th>city</th>\n",
       "      <td>0</td>\n",
       "      <td>0.000000</td>\n",
       "    </tr>\n",
       "    <tr>\n",
       "      <th>Seats</th>\n",
       "      <td>0</td>\n",
       "      <td>0.000000</td>\n",
       "    </tr>\n",
       "  </tbody>\n",
       "</table>\n",
       "</div>"
      ],
      "text/plain": [
       "                     Total    Percent\n",
       "Displacement          8338  99.629585\n",
       "Mileage                287   3.429322\n",
       "Steering Type          255   3.046959\n",
       "Wheel Base             163   1.947664\n",
       "Gear Box               106   1.266579\n",
       "Front Brake Type        96   1.147090\n",
       "Rear Brake Type         96   1.147090\n",
       "Width                   83   0.991755\n",
       "Length                  79   0.943960\n",
       "Height                  79   0.943960\n",
       "Tyre Type               77   0.920062\n",
       "Max Torque              60   0.716932\n",
       "Max Power               60   0.716932\n",
       "Torque                  60   0.716932\n",
       "Kerb Weight             59   0.704983\n",
       "Registration Year       52   0.621341\n",
       "Values per Cylinder     51   0.609392\n",
       "No of Cylinder          31   0.370415\n",
       "Year of Manufacture     20   0.238977\n",
       "No Door Numbers         11   0.131437\n",
       "Engine                   4   0.047795\n",
       "Insurance Validity       4   0.047795\n",
       "Color                    3   0.035847\n",
       "bt                       0   0.000000\n",
       "ft                       0   0.000000\n",
       "Transmission             0   0.000000\n",
       "Fuel Type                0   0.000000\n",
       "price                    0   0.000000\n",
       "variantName              0   0.000000\n",
       "centralVariantId         0   0.000000\n",
       "modelYear                0   0.000000\n",
       "model                    0   0.000000\n",
       "oem                      0   0.000000\n",
       "ownerNo                  0   0.000000\n",
       "transmission             0   0.000000\n",
       "km                       0   0.000000\n",
       "city                     0   0.000000\n",
       "Seats                    0   0.000000"
      ]
     },
     "execution_count": 34,
     "metadata": {},
     "output_type": "execute_result"
    }
   ],
   "source": [
    "desc_na(df)"
   ]
  },
  {
   "cell_type": "code",
   "execution_count": null,
   "id": "d3cf0b8b-cfef-48cc-977f-3c2b44e61477",
   "metadata": {},
   "outputs": [],
   "source": []
  },
  {
   "cell_type": "code",
   "execution_count": 35,
   "id": "7b82747e-0219-461d-af85-e2aebbdadef7",
   "metadata": {},
   "outputs": [],
   "source": [
    "clean_df = df[['ft', 'bt', 'transmission', 'ownerNo', 'oem', 'model', 'modelYear', 'Year of Manufacture', 'price', 'Insurance Validity', 'km', 'Mileage', 'Engine', 'Seats', 'Color', 'Gear Box', 'city']]"
   ]
  },
  {
   "cell_type": "code",
   "execution_count": 36,
   "id": "2c0b723b-d43f-41e4-ad96-54b284605ff8",
   "metadata": {},
   "outputs": [
    {
     "name": "stdout",
     "output_type": "stream",
     "text": [
      "<class 'pandas.core.frame.DataFrame'>\n",
      "RangeIndex: 8369 entries, 0 to 8368\n",
      "Data columns (total 17 columns):\n",
      " #   Column               Non-Null Count  Dtype  \n",
      "---  ------               --------------  -----  \n",
      " 0   ft                   8369 non-null   object \n",
      " 1   bt                   8369 non-null   object \n",
      " 2   transmission         8369 non-null   object \n",
      " 3   ownerNo              8369 non-null   int64  \n",
      " 4   oem                  8369 non-null   object \n",
      " 5   model                8369 non-null   object \n",
      " 6   modelYear            8369 non-null   int64  \n",
      " 7   Year of Manufacture  8349 non-null   float64\n",
      " 8   price                8369 non-null   object \n",
      " 9   Insurance Validity   8365 non-null   object \n",
      " 10  km                   8369 non-null   object \n",
      " 11  Mileage              8082 non-null   object \n",
      " 12  Engine               8365 non-null   object \n",
      " 13  Seats                8369 non-null   object \n",
      " 14  Color                8366 non-null   object \n",
      " 15  Gear Box             8263 non-null   object \n",
      " 16  city                 8369 non-null   object \n",
      "dtypes: float64(1), int64(2), object(14)\n",
      "memory usage: 1.1+ MB\n"
     ]
    }
   ],
   "source": [
    "clean_df.info()"
   ]
  },
  {
   "cell_type": "code",
   "execution_count": null,
   "id": "479cb666-bbc7-42ce-a730-590f8194ff99",
   "metadata": {},
   "outputs": [],
   "source": []
  },
  {
   "cell_type": "code",
   "execution_count": 37,
   "id": "8535c428-a986-4449-a9e8-0b4c7e785cc0",
   "metadata": {},
   "outputs": [],
   "source": [
    "clean_df = clean_df.dropna().copy()"
   ]
  },
  {
   "cell_type": "code",
   "execution_count": 38,
   "id": "a1c1ca85-718b-4e55-a9fe-b0d683416000",
   "metadata": {},
   "outputs": [],
   "source": [
    "clean_df['km'] = clean_df['km'].str.replace(',','')"
   ]
  },
  {
   "cell_type": "code",
   "execution_count": null,
   "id": "08feb66b-c8b5-4290-8a7c-c71ec044eed5",
   "metadata": {},
   "outputs": [],
   "source": []
  },
  {
   "cell_type": "code",
   "execution_count": 39,
   "id": "79ba4ee3-c2b7-4d56-a6c9-2cbd3b33f4dd",
   "metadata": {},
   "outputs": [],
   "source": [
    "clean_df['km'] = clean_df['km'].astype(int)\n",
    "clean_df['modelYear'] = clean_df['modelYear'].astype(int)\n",
    "clean_df['Year of Manufacture'] = clean_df['Year of Manufacture'].astype(int)"
   ]
  },
  {
   "cell_type": "code",
   "execution_count": null,
   "id": "2a495915-aa2b-4f49-977d-73b8e4a78fbf",
   "metadata": {},
   "outputs": [],
   "source": []
  },
  {
   "cell_type": "code",
   "execution_count": 40,
   "id": "6ee64c96-5a87-413a-a56e-fd359b7cae99",
   "metadata": {},
   "outputs": [],
   "source": [
    "def convert_price(price):\n",
    "    price = price.replace(',', '')\n",
    "    price = price.replace('₹ ','')\n",
    "    if 'Lakh' in price:\n",
    "        return float(price.replace(' Lakh', '')) * (10**5)\n",
    "    elif 'Crore' in price:\n",
    "        return float(price.replace(' Crore', '')) * 10**7\n",
    "    \n",
    "    return float(price)"
   ]
  },
  {
   "cell_type": "code",
   "execution_count": 41,
   "id": "ba85f582-4d72-47c3-8e81-b0490730cd7e",
   "metadata": {},
   "outputs": [],
   "source": [
    "clean_df['price'] = clean_df['price'].apply(convert_price)"
   ]
  },
  {
   "cell_type": "code",
   "execution_count": 42,
   "id": "607464e3-8ac4-410e-840d-ffbae916094f",
   "metadata": {},
   "outputs": [],
   "source": [
    "clean_df['Engine'] = clean_df['Engine'].str.replace(' CC','').astype(float)"
   ]
  },
  {
   "cell_type": "code",
   "execution_count": 43,
   "id": "710fc334-9e01-4c5c-b6aa-f1874e6f1411",
   "metadata": {},
   "outputs": [],
   "source": [
    "clean_df = clean_df.rename(columns={\"ft\":\"Fuel type\",\"bt\":\"body type\",\"oem\":\"Brand\"})"
   ]
  },
  {
   "cell_type": "code",
   "execution_count": 44,
   "id": "5451af28-c896-4bc1-a4aa-bb53aaaae386",
   "metadata": {},
   "outputs": [],
   "source": [
    "clean_df = clean_df.reset_index(drop=True)"
   ]
  },
  {
   "cell_type": "code",
   "execution_count": null,
   "id": "9f26c98a-7114-4a70-bef8-2b46dfb911e9",
   "metadata": {},
   "outputs": [],
   "source": []
  },
  {
   "cell_type": "code",
   "execution_count": 45,
   "id": "f1fd2712-b49a-40a3-a795-05985fc588a4",
   "metadata": {},
   "outputs": [],
   "source": [
    "clean_df.loc[clean_df['Mileage'].str.contains('km/kg'),'Mileage'] = clean_df.loc[clean_df['Mileage'].str.contains('km/kg'),'Mileage'].str.replace(' km/kg','').astype(float)*1.4"
   ]
  },
  {
   "cell_type": "code",
   "execution_count": 46,
   "id": "a86b4cc7-c278-4805-91fd-295f4a5dc2ef",
   "metadata": {},
   "outputs": [],
   "source": [
    "clean_df['Mileage'] = clean_df['Mileage'].str.replace(' kmpl','').astype(float)"
   ]
  },
  {
   "cell_type": "code",
   "execution_count": null,
   "id": "97900958-b4ef-4c44-aca0-3e23e6fa7e59",
   "metadata": {},
   "outputs": [],
   "source": []
  },
  {
   "cell_type": "code",
   "execution_count": 47,
   "id": "9d4d403f-4db9-4a17-bf3e-dbebd0d9fed8",
   "metadata": {},
   "outputs": [],
   "source": [
    "clean_df.to_excel('Dataset/process/cleaned_data.xlsx', index=False)"
   ]
  }
 ],
 "metadata": {
  "kernelspec": {
   "display_name": "Python 3 (ipykernel)",
   "language": "python",
   "name": "python3"
  },
  "language_info": {
   "codemirror_mode": {
    "name": "ipython",
    "version": 3
   },
   "file_extension": ".py",
   "mimetype": "text/x-python",
   "name": "python",
   "nbconvert_exporter": "python",
   "pygments_lexer": "ipython3",
   "version": "3.11.5"
  }
 },
 "nbformat": 4,
 "nbformat_minor": 5
}
